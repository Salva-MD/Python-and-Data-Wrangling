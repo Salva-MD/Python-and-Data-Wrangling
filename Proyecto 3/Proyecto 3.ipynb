{
 "cells": [
  {
   "cell_type": "markdown",
   "metadata": {
    "id": "hDt6pg-Rw-1U"
   },
   "source": [
    "[Volver a Contenidos](#back)"
   ]
  },
  {
   "cell_type": "markdown",
   "metadata": {
    "id": "Ml1hmfXC_Zcs"
   },
   "source": [
    "## Etapa 1. Descripción de los datos <a id='data_review'></a>\n",
    "\n"
   ]
  },
  {
   "cell_type": "code",
   "execution_count": 120,
   "metadata": {
    "id": "AXN7PHPN_Zcs",
    "trusted": true
   },
   "outputs": [],
   "source": [
    "import pandas as pd"
   ]
  },
  {
   "cell_type": "code",
   "execution_count": 121,
   "metadata": {
    "id": "fFVu7vqh_Zct",
    "trusted": true
   },
   "outputs": [],
   "source": [
    "df=pd.read_csv('music_project_en.csv')"
   ]
  },
  {
   "cell_type": "code",
   "execution_count": 122,
   "metadata": {
    "id": "oWTVX3gW_Zct",
    "scrolled": true,
    "trusted": true
   },
   "outputs": [
    {
     "name": "stdout",
     "output_type": "stream",
     "text": [
      "     userID                        Track            artist   genre  \\\n",
      "0  FFB692EC            Kamigata To Boots  The Mass Missile    rock   \n",
      "1  55204538  Delayed Because of Accident  Andreas Rönnberg    rock   \n",
      "2    20EC38            Funiculì funiculà       Mario Lanza     pop   \n",
      "3  A3DD03C9        Dragons in the Sunset        Fire + Ice    folk   \n",
      "4  E2DC1FAE                  Soul People        Space Echo   dance   \n",
      "5  842029A1                       Chains          Obladaet  rusrap   \n",
      "6  4CB90AA5                         True      Roman Messer   dance   \n",
      "7  F03E1C1F             Feeling This Way   Polina Griffith   dance   \n",
      "8  8FA1D3BE                     L’estate       Julia Dalia  ruspop   \n",
      "9  E772D5C0                    Pessimist               NaN   dance   \n",
      "\n",
      "        City        time        Day  \n",
      "0  Shelbyville  20:28:33  Wednesday  \n",
      "1  Springfield  14:07:09     Friday  \n",
      "2  Shelbyville  20:58:07  Wednesday  \n",
      "3  Shelbyville  08:37:09     Monday  \n",
      "4  Springfield  08:34:34     Monday  \n",
      "5  Shelbyville  13:09:41     Friday  \n",
      "6  Springfield  13:00:07  Wednesday  \n",
      "7  Springfield  20:47:49  Wednesday  \n",
      "8  Springfield  09:17:40     Friday  \n",
      "9  Shelbyville  21:20:49  Wednesday  \n"
     ]
    }
   ],
   "source": [
    "print(df.head(10))"
   ]
  },
  {
   "cell_type": "code",
   "execution_count": 123,
   "metadata": {
    "id": "DSf2kIb-_Zct",
    "trusted": true
   },
   "outputs": [
    {
     "name": "stdout",
     "output_type": "stream",
     "text": [
      "<class 'pandas.core.frame.DataFrame'>\n",
      "RangeIndex: 65079 entries, 0 to 65078\n",
      "Data columns (total 7 columns):\n",
      " #   Column    Non-Null Count  Dtype \n",
      "---  ------    --------------  ----- \n",
      " 0     userID  65079 non-null  object\n",
      " 1   Track     63736 non-null  object\n",
      " 2   artist    57512 non-null  object\n",
      " 3   genre     63881 non-null  object\n",
      " 4     City    65079 non-null  object\n",
      " 5   time      65079 non-null  object\n",
      " 6   Day       65079 non-null  object\n",
      "dtypes: object(7)\n",
      "memory usage: 3.5+ MB\n"
     ]
    }
   ],
   "source": [
    "df.info()"
   ]
  },
  {
   "cell_type": "markdown",
   "metadata": {
    "id": "SjYF6Ub9_Zct"
   },
   "source": [
    "## Etapa 2. Preprocesamiento de datos <a id='data_preprocessing'></a>\n",
    "\n",
    "\n"
   ]
  },
  {
   "cell_type": "code",
   "execution_count": 124,
   "metadata": {
    "id": "oKOTdF_Q_Zct",
    "trusted": true
   },
   "outputs": [
    {
     "name": "stdout",
     "output_type": "stream",
     "text": [
      "Index(['  userID', 'Track', 'artist', 'genre', '  City  ', 'time', 'Day'], dtype='object')\n"
     ]
    }
   ],
   "source": [
    "print(df.columns)"
   ]
  },
  {
   "cell_type": "code",
   "execution_count": 125,
   "metadata": {
    "id": "6I_RwwMhzM4e",
    "trusted": true
   },
   "outputs": [
    {
     "name": "stdout",
     "output_type": "stream",
     "text": [
      "Index(['  userid', 'track', 'artist', 'genre', '  city  ', 'time', 'day'], dtype='object')\n"
     ]
    }
   ],
   "source": [
    "new_col_names = []\n",
    "for old in df.columns:\n",
    "    name_low=old.lower()\n",
    "    new_col_names.append(name_low)\n",
    "df.columns=new_col_names\n",
    "print(df.columns)"
   ]
  },
  {
   "cell_type": "code",
   "execution_count": 126,
   "metadata": {
    "id": "vVQXbFyJzSYl",
    "trusted": true
   },
   "outputs": [
    {
     "name": "stdout",
     "output_type": "stream",
     "text": [
      "Index(['userid', 'track', 'artist', 'genre', 'city', 'time', 'day'], dtype='object')\n"
     ]
    }
   ],
   "source": [
    "new_col_names = []\n",
    "for old in df.columns:\n",
    "    name_new=old.strip().lower()\n",
    "    new_col_names.append(name_new)\n",
    "df.columns=new_col_names\n",
    "print(df.columns)"
   ]
  },
  {
   "cell_type": "code",
   "execution_count": 127,
   "metadata": {
    "id": "ISlFqs5y_Zct",
    "trusted": true
   },
   "outputs": [
    {
     "name": "stdout",
     "output_type": "stream",
     "text": [
      "Index(['user_id', 'track', 'artist', 'genre', 'city', 'time', 'day'], dtype='object')\n"
     ]
    }
   ],
   "source": [
    "new_col_names = []\n",
    "for old in df.columns:\n",
    "    name_new=old.strip().lower().replace('userid','user_id')\n",
    "    new_col_names.append(name_new)\n",
    "df.columns=new_col_names\n",
    "print(df.columns)"
   ]
  },
  {
   "cell_type": "code",
   "execution_count": 128,
   "metadata": {
    "id": "d4NOAmTW_Zct",
    "trusted": true
   },
   "outputs": [
    {
     "name": "stdout",
     "output_type": "stream",
     "text": [
      "Index(['user_id', 'track', 'artist', 'genre', 'city', 'time', 'day'], dtype='object')\n"
     ]
    }
   ],
   "source": [
    "new_col_names = []\n",
    "for old in df.columns:\n",
    "    name_new=old.strip().lower().replace('userid','user_id')\n",
    "    new_col_names.append(name_new)\n",
    "df.columns=new_col_names\n",
    "print(df.columns)"
   ]
  },
  {
   "cell_type": "code",
   "execution_count": 129,
   "metadata": {
    "id": "RskX29qr_Zct",
    "trusted": true
   },
   "outputs": [
    {
     "name": "stdout",
     "output_type": "stream",
     "text": [
      "user_id       0\n",
      "track      1343\n",
      "artist     7567\n",
      "genre      1198\n",
      "city          0\n",
      "time          0\n",
      "day           0\n",
      "dtype: int64\n"
     ]
    }
   ],
   "source": [
    "print(df.isna().sum())"
   ]
  },
  {
   "cell_type": "code",
   "execution_count": 130,
   "metadata": {
    "id": "KplB5qWs_Zct",
    "trusted": true
   },
   "outputs": [
    {
     "name": "stderr",
     "output_type": "stream",
     "text": [
      "C:\\Users\\Salva Medina\\AppData\\Local\\Temp\\ipykernel_58168\\51621136.py:3: FutureWarning: A value is trying to be set on a copy of a DataFrame or Series through chained assignment using an inplace method.\n",
      "The behavior will change in pandas 3.0. This inplace method will never work because the intermediate object on which we are setting values always behaves as a copy.\n",
      "\n",
      "For example, when doing 'df[col].method(value, inplace=True)', try using 'df.method({col: value}, inplace=True)' or df[col] = df[col].method(value) instead, to perform the operation inplace on the original object.\n",
      "\n",
      "\n",
      "  df[col].fillna('unknown',inplace=True)\n"
     ]
    }
   ],
   "source": [
    "replace=['track', 'artist', 'genre']\n",
    "for col in replace:\n",
    "    df[col].fillna('unknown',inplace=True)"
   ]
  },
  {
   "cell_type": "code",
   "execution_count": 131,
   "metadata": {
    "id": "Tq4nYRX4_Zct",
    "scrolled": true,
    "trusted": true
   },
   "outputs": [
    {
     "name": "stdout",
     "output_type": "stream",
     "text": [
      "user_id    0\n",
      "track      0\n",
      "artist     0\n",
      "genre      0\n",
      "city       0\n",
      "time       0\n",
      "day        0\n",
      "dtype: int64\n"
     ]
    }
   ],
   "source": [
    "replace=['track', 'artist', 'genre']\n",
    "for col in replace:\n",
    "    df[col].fillna('unknown',inplace=True)\n",
    "print(df.isna().sum())"
   ]
  },
  {
   "cell_type": "markdown",
   "metadata": {
    "id": "74ZIBmq9VrsK"
   },
   "source": [
    "[Volver a Contenidos](#back)"
   ]
  },
  {
   "cell_type": "code",
   "execution_count": 132,
   "metadata": {
    "id": "36eES_S0_Zct",
    "trusted": true
   },
   "outputs": [
    {
     "name": "stdout",
     "output_type": "stream",
     "text": [
      "3826\n"
     ]
    }
   ],
   "source": [
    "print(df.duplicated().sum())"
   ]
  },
  {
   "cell_type": "code",
   "execution_count": 133,
   "metadata": {
    "id": "exFHq6tt_Zct",
    "trusted": true
   },
   "outputs": [],
   "source": [
    "df=df.drop_duplicates()"
   ]
  },
  {
   "cell_type": "code",
   "execution_count": 134,
   "metadata": {
    "id": "-8PuNWQ0_Zct",
    "trusted": true
   },
   "outputs": [
    {
     "name": "stdout",
     "output_type": "stream",
     "text": [
      "0\n"
     ]
    }
   ],
   "source": [
    "df=df.drop_duplicates().reset_index(drop=True)\n",
    "print(df.duplicated().sum())"
   ]
  },
  {
   "cell_type": "code",
   "execution_count": 135,
   "metadata": {
    "id": "JIUcqzZN_Zct",
    "trusted": true
   },
   "outputs": [
    {
     "name": "stdout",
     "output_type": "stream",
     "text": [
      "['rock' 'pop' 'folk' 'dance' 'rusrap' 'ruspop' 'world' 'electronic'\n",
      " 'unknown' 'alternative' 'children' 'rnb' 'hip' 'jazz' 'postrock' 'latin'\n",
      " 'classical' 'metal' 'reggae' 'triphop' 'blues' 'instrumental' 'rusrock'\n",
      " 'dnb' 'türk' 'post' 'country' 'psychedelic' 'conjazz' 'indie'\n",
      " 'posthardcore' 'local' 'avantgarde' 'punk' 'videogame' 'techno' 'house'\n",
      " 'christmas' 'melodic' 'caucasian' 'reggaeton' 'soundtrack' 'singer' 'ska'\n",
      " 'salsa' 'ambient' 'film' 'western' 'rap' 'beats' \"hard'n'heavy\"\n",
      " 'progmetal' 'minimal' 'tropical' 'contemporary' 'new' 'soul' 'holiday'\n",
      " 'german' 'jpop' 'spiritual' 'urban' 'gospel' 'nujazz' 'folkmetal'\n",
      " 'trance' 'miscellaneous' 'anime' 'hardcore' 'progressive' 'korean'\n",
      " 'numetal' 'vocal' 'estrada' 'tango' 'loungeelectronic' 'classicmetal'\n",
      " 'dubstep' 'club' 'deep' 'southern' 'black' 'folkrock' 'fitness' 'french'\n",
      " 'disco' 'religious' 'hiphop' 'drum' 'extrememetal' 'türkçe'\n",
      " 'experimental' 'easy' 'metalcore' 'modern' 'argentinetango' 'old' 'swing'\n",
      " 'breaks' 'eurofolk' 'stonerrock' 'industrial' 'funk' 'middle' 'variété'\n",
      " 'other' 'adult' 'christian' 'thrash' 'gothic' 'international' 'muslim'\n",
      " 'relax' 'schlager' 'caribbean' 'nu' 'breakbeat' 'comedy' 'chill' 'newage'\n",
      " 'specialty' 'uzbek' 'k-pop' 'balkan' 'chinese' 'meditative' 'dub' 'power'\n",
      " 'death' 'grime' 'arabesk' 'romance' 'flamenco' 'leftfield' 'european'\n",
      " 'tech' 'newwave' 'dancehall' 'mpb' 'piano' 'top' 'bigroom' 'opera'\n",
      " 'celtic' 'tradjazz' 'acoustic' 'epicmetal' 'hip-hop' 'historisch'\n",
      " 'downbeat' 'downtempo' 'africa' 'audiobook' 'jewish' 'sängerportrait'\n",
      " 'deutschrock' 'eastern' 'action' 'future' 'electropop' 'folklore'\n",
      " 'bollywood' 'marschmusik' 'rnr' 'karaoke' 'indian' 'rancheras'\n",
      " 'afrikaans' 'rhythm' 'sound' 'deutschspr' 'trip' 'lovers' 'choral'\n",
      " 'dancepop' 'retro' 'smooth' 'mexican' 'brazilian' 'ïîï' 'mood' 'surf'\n",
      " 'gangsta' 'inspirational' 'idm' 'ethnic' 'bluegrass' 'broadway'\n",
      " 'animated' 'americana' 'karadeniz' 'rockabilly' 'colombian' 'self' 'hop'\n",
      " 'sertanejo' 'japanese' 'canzone' 'lounge' 'sport' 'ragga' 'traditional'\n",
      " 'gitarre' 'frankreich' 'emo' 'laiko' 'cantopop' 'glitch' 'documentary'\n",
      " 'oceania' 'popeurodance' 'dark' 'vi' 'grunge' 'hardstyle' 'samba'\n",
      " 'garage' 'art' 'folktronica' 'entehno' 'mediterranean' 'chamber' 'cuban'\n",
      " 'taraftar' 'gypsy' 'hardtechno' 'shoegazing' 'bossa' 'latino' 'worldbeat'\n",
      " 'malaysian' 'baile' 'ghazal' 'arabic' 'popelectronic' 'acid' 'kayokyoku'\n",
      " 'neoklassik' 'tribal' 'tanzorchester' 'native' 'independent' 'cantautori'\n",
      " 'handsup' 'punjabi' 'synthpop' 'rave' 'französisch' 'quebecois' 'speech'\n",
      " 'soulful' 'jam' 'ram' 'horror' 'orchestral' 'neue' 'roots' 'slow'\n",
      " 'jungle' 'indipop' 'axé' 'fado' 'showtunes' 'arena' 'irish' 'mandopop'\n",
      " 'forró' 'dirty' 'regional']\n"
     ]
    }
   ],
   "source": [
    "print(df['genre'].unique())"
   ]
  },
  {
   "cell_type": "code",
   "execution_count": 136,
   "metadata": {
    "id": "ErNDkmns_Zct",
    "trusted": true
   },
   "outputs": [],
   "source": [
    "def replace_worng_genre(df, column, wrong_genre, correct_genre):\n",
    "    for wrong in wrong_genre:\n",
    "        df[column]=df[column].replace(wrong_genre, correct_genre)\n",
    "    return df\n",
    "wrong_genre=['hip', 'hop', 'hip-hop']\n",
    "correct_genre='hiphop'\n",
    "genres=replace_worng_genre(df,'genre',wrong_genre,correct_genre)"
   ]
  },
  {
   "cell_type": "code",
   "execution_count": 137,
   "metadata": {
    "id": "YN5i2hpmSo09",
    "trusted": true
   },
   "outputs": [],
   "source": [
    "def replace_worng_genre(df, column, wrong_genre, correct_genre):\n",
    "    for wrong in wrong_genre:\n",
    "        df[column]=df[column].replace(wrong_genre, correct_genre)\n",
    "    return df\n",
    "wrong_genre=['hip', 'hop', 'hip-hop']\n",
    "correct_genre='hiphop'\n",
    "genres=replace_worng_genre(df,'genre',wrong_genre,correct_genre)"
   ]
  },
  {
   "cell_type": "code",
   "execution_count": 138,
   "metadata": {
    "id": "wvixALnFG15m",
    "trusted": true
   },
   "outputs": [
    {
     "name": "stdout",
     "output_type": "stream",
     "text": [
      "['rock' 'pop' 'folk' 'dance' 'rusrap' 'ruspop' 'world' 'electronic'\n",
      " 'unknown' 'alternative' 'children' 'rnb' 'hiphop' 'jazz' 'postrock'\n",
      " 'latin' 'classical' 'metal' 'reggae' 'triphop' 'blues' 'instrumental'\n",
      " 'rusrock' 'dnb' 'türk' 'post' 'country' 'psychedelic' 'conjazz' 'indie'\n",
      " 'posthardcore' 'local' 'avantgarde' 'punk' 'videogame' 'techno' 'house'\n",
      " 'christmas' 'melodic' 'caucasian' 'reggaeton' 'soundtrack' 'singer' 'ska'\n",
      " 'salsa' 'ambient' 'film' 'western' 'rap' 'beats' \"hard'n'heavy\"\n",
      " 'progmetal' 'minimal' 'tropical' 'contemporary' 'new' 'soul' 'holiday'\n",
      " 'german' 'jpop' 'spiritual' 'urban' 'gospel' 'nujazz' 'folkmetal'\n",
      " 'trance' 'miscellaneous' 'anime' 'hardcore' 'progressive' 'korean'\n",
      " 'numetal' 'vocal' 'estrada' 'tango' 'loungeelectronic' 'classicmetal'\n",
      " 'dubstep' 'club' 'deep' 'southern' 'black' 'folkrock' 'fitness' 'french'\n",
      " 'disco' 'religious' 'drum' 'extrememetal' 'türkçe' 'experimental' 'easy'\n",
      " 'metalcore' 'modern' 'argentinetango' 'old' 'swing' 'breaks' 'eurofolk'\n",
      " 'stonerrock' 'industrial' 'funk' 'middle' 'variété' 'other' 'adult'\n",
      " 'christian' 'thrash' 'gothic' 'international' 'muslim' 'relax' 'schlager'\n",
      " 'caribbean' 'nu' 'breakbeat' 'comedy' 'chill' 'newage' 'specialty'\n",
      " 'uzbek' 'k-pop' 'balkan' 'chinese' 'meditative' 'dub' 'power' 'death'\n",
      " 'grime' 'arabesk' 'romance' 'flamenco' 'leftfield' 'european' 'tech'\n",
      " 'newwave' 'dancehall' 'mpb' 'piano' 'top' 'bigroom' 'opera' 'celtic'\n",
      " 'tradjazz' 'acoustic' 'epicmetal' 'historisch' 'downbeat' 'downtempo'\n",
      " 'africa' 'audiobook' 'jewish' 'sängerportrait' 'deutschrock' 'eastern'\n",
      " 'action' 'future' 'electropop' 'folklore' 'bollywood' 'marschmusik' 'rnr'\n",
      " 'karaoke' 'indian' 'rancheras' 'afrikaans' 'rhythm' 'sound' 'deutschspr'\n",
      " 'trip' 'lovers' 'choral' 'dancepop' 'retro' 'smooth' 'mexican'\n",
      " 'brazilian' 'ïîï' 'mood' 'surf' 'gangsta' 'inspirational' 'idm' 'ethnic'\n",
      " 'bluegrass' 'broadway' 'animated' 'americana' 'karadeniz' 'rockabilly'\n",
      " 'colombian' 'self' 'sertanejo' 'japanese' 'canzone' 'lounge' 'sport'\n",
      " 'ragga' 'traditional' 'gitarre' 'frankreich' 'emo' 'laiko' 'cantopop'\n",
      " 'glitch' 'documentary' 'oceania' 'popeurodance' 'dark' 'vi' 'grunge'\n",
      " 'hardstyle' 'samba' 'garage' 'art' 'folktronica' 'entehno'\n",
      " 'mediterranean' 'chamber' 'cuban' 'taraftar' 'gypsy' 'hardtechno'\n",
      " 'shoegazing' 'bossa' 'latino' 'worldbeat' 'malaysian' 'baile' 'ghazal'\n",
      " 'arabic' 'popelectronic' 'acid' 'kayokyoku' 'neoklassik' 'tribal'\n",
      " 'tanzorchester' 'native' 'independent' 'cantautori' 'handsup' 'punjabi'\n",
      " 'synthpop' 'rave' 'französisch' 'quebecois' 'speech' 'soulful' 'jam'\n",
      " 'ram' 'horror' 'orchestral' 'neue' 'roots' 'slow' 'jungle' 'indipop'\n",
      " 'axé' 'fado' 'showtunes' 'arena' 'irish' 'mandopop' 'forró' 'dirty'\n",
      " 'regional']\n"
     ]
    }
   ],
   "source": [
    "print(df['genre'].unique())"
   ]
  },
  {
   "cell_type": "markdown",
   "metadata": {
    "id": "WttZHXH0SqKk"
   },
   "source": [
    "## Etapa 3. Prueba de hipótesis <a id='hypothesis'></a>"
   ]
  },
  {
   "cell_type": "markdown",
   "metadata": {
    "id": "Im936VVi_Zcu"
   },
   "source": [
    "### Hipótesis: comparar el comportamiento del usuario o la usuaria en las dos ciudades <a id='activity'></a>"
   ]
  },
  {
   "cell_type": "code",
   "execution_count": 139,
   "metadata": {
    "id": "0_Qs96oh_Zcu",
    "scrolled": false,
    "trusted": true
   },
   "outputs": [
    {
     "name": "stdout",
     "output_type": "stream",
     "text": [
      "<pandas.core.groupby.generic.SeriesGroupBy object at 0x000001FCDF83C650>\n",
      "\n",
      "city\n",
      "Shelbyville    18512\n",
      "Springfield    42741\n",
      "Name: track, dtype: int64\n"
     ]
    }
   ],
   "source": [
    "print(df.groupby(by='city')['track'])\n",
    "print()\n",
    "print(df.groupby(by='city')['track'].count())"
   ]
  },
  {
   "cell_type": "code",
   "execution_count": 140,
   "metadata": {
    "id": "uZMKjiJz_Zcu",
    "trusted": true
   },
   "outputs": [
    {
     "name": "stdout",
     "output_type": "stream",
     "text": [
      "<pandas.core.groupby.generic.SeriesGroupBy object at 0x000001FCDCE33FB0>\n",
      "\n",
      "day\n",
      "Friday       21840\n",
      "Monday       21354\n",
      "Wednesday    18059\n",
      "Name: track, dtype: int64\n"
     ]
    }
   ],
   "source": [
    "print(df.groupby(by='day')['track'])\n",
    "print()\n",
    "print(df.groupby(by='day')['track'].count())"
   ]
  },
  {
   "cell_type": "code",
   "execution_count": 141,
   "metadata": {
    "id": "Nz3GdQB1_Zcu",
    "trusted": true
   },
   "outputs": [
    {
     "name": "stdout",
     "output_type": "stream",
     "text": [
      "0\n"
     ]
    }
   ],
   "source": [
    "def number_tracks(df, City, Day):\n",
    "    df_filtered_by_city = df[df['city'] == City]\n",
    "    df_filtered = df_filtered_by_city[df_filtered_by_city['day'] == Day]\n",
    "    return df_filtered\n",
    "filtered_data = number_tracks(df, '', '')\n",
    "Users=filtered_data['user_id']\n",
    "print(Users.count())"
   ]
  },
  {
   "cell_type": "code",
   "execution_count": 142,
   "metadata": {
    "id": "rJcRATNQ_Zcu",
    "trusted": true
   },
   "outputs": [
    {
     "name": "stdout",
     "output_type": "stream",
     "text": [
      "15740\n"
     ]
    }
   ],
   "source": [
    "def number_tracks(df, City, Day):\n",
    "    df_filtered_by_city = df[df['city'] == City]\n",
    "    df_filtered = df_filtered_by_city[df_filtered_by_city['day'] == Day]\n",
    "    return df_filtered\n",
    "filtered_data = number_tracks(df, 'Springfield', 'Monday')\n",
    "Users=filtered_data['user_id']\n",
    "print(Users.count())"
   ]
  },
  {
   "cell_type": "code",
   "execution_count": 143,
   "metadata": {
    "id": "hq_ncZ5T_Zcu",
    "trusted": true
   },
   "outputs": [
    {
     "name": "stdout",
     "output_type": "stream",
     "text": [
      "5614\n"
     ]
    }
   ],
   "source": [
    "def number_tracks(df, City, Day):\n",
    "    df_filtered_by_city = df[df['city'] == City]\n",
    "    df_filtered = df_filtered_by_city[df_filtered_by_city['day'] == Day]\n",
    "    return df_filtered\n",
    "filtered_data = number_tracks(df, 'Shelbyville', 'Monday')\n",
    "Users=filtered_data['user_id']\n",
    "print(Users.count())"
   ]
  },
  {
   "cell_type": "code",
   "execution_count": 144,
   "metadata": {
    "id": "_NTy2VPU_Zcu",
    "trusted": true
   },
   "outputs": [
    {
     "name": "stdout",
     "output_type": "stream",
     "text": [
      "11056\n"
     ]
    }
   ],
   "source": [
    "def number_tracks(df, City, Day):\n",
    "    df_filtered_by_city = df[df['city'] == City]\n",
    "    df_filtered = df_filtered_by_city[df_filtered_by_city['day'] == Day]\n",
    "    return df_filtered\n",
    "filtered_data = number_tracks(df, 'Springfield', 'Wednesday')\n",
    "Users=filtered_data['user_id']\n",
    "print(Users.count())"
   ]
  },
  {
   "cell_type": "code",
   "execution_count": 145,
   "metadata": {
    "id": "j2y3TAwo_Zcu",
    "trusted": true
   },
   "outputs": [
    {
     "name": "stdout",
     "output_type": "stream",
     "text": [
      "7003\n"
     ]
    }
   ],
   "source": [
    "def number_tracks(df, City, Day):\n",
    "    df_filtered_by_city = df[df['city'] == City]\n",
    "    df_filtered = df_filtered_by_city[df_filtered_by_city['day'] == Day]\n",
    "    return df_filtered\n",
    "filtered_data = number_tracks(df, 'Shelbyville', 'Wednesday')\n",
    "Users=filtered_data['user_id']\n",
    "print(Users.count())"
   ]
  },
  {
   "cell_type": "code",
   "execution_count": 146,
   "metadata": {
    "id": "vYDw5u_K_Zcu",
    "trusted": true
   },
   "outputs": [
    {
     "name": "stdout",
     "output_type": "stream",
     "text": [
      "15945\n"
     ]
    }
   ],
   "source": [
    "def number_tracks(df, City, Day):\n",
    "    df_filtered_by_city = df[df['city'] == City]\n",
    "    df_filtered = df_filtered_by_city[df_filtered_by_city['day'] == Day]\n",
    "    return df_filtered\n",
    "filtered_data = number_tracks(df, 'Springfield', 'Friday')\n",
    "Users=filtered_data['user_id']\n",
    "print(Users.count())"
   ]
  },
  {
   "cell_type": "code",
   "execution_count": 147,
   "metadata": {
    "id": "8_yzFtW3_Zcu",
    "trusted": true
   },
   "outputs": [
    {
     "name": "stdout",
     "output_type": "stream",
     "text": [
      "5895\n"
     ]
    }
   ],
   "source": [
    "def number_tracks(df, City, Day):\n",
    "    df_filtered_by_city = df[df['city'] == City]\n",
    "    df_filtered = df_filtered_by_city[df_filtered_by_city['day'] == Day]\n",
    "    return df_filtered\n",
    "filtered_data = number_tracks(df, 'Shelbyville', 'Friday')\n",
    "Users=filtered_data['user_id']\n",
    "print(Users.count())"
   ]
  },
  {
   "cell_type": "markdown",
   "metadata": {
    "id": "ykKQ0N65_Zcv"
   },
   "source": [
    "# Conclusiones <a id='end'></a>"
   ]
  },
  {
   "cell_type": "markdown",
   "metadata": {
    "id": "tjUwbHb3_Zcv"
   },
   "source": [
    "El lunes en Shelbyville es el día con menor número de usuarios, con 5982, y el miércoles es el día con mayor número de usuarios, con 7478.\n",
    "Mientras que, en Springfield, el viernes es el día con mayor número de usuarios con 16890 y el miércoles es el día con menor número de usuarios, con 11755.\n",
    "En base a los datos descritos, la hipótesis, la actividad de los usuarios difiere según el día de la semana y dependiendo de la ciudad, puede ser comprobada, al menos con los datos disponibles en el momento de análisis, ya que, hay una variación en usurarios entre día y ciudad.\n"
   ]
  }
 ],
 "metadata": {
  "ExecuteTimeLog": [
   {
    "duration": 155,
    "start_time": "2024-12-27T18:24:25.286Z"
   },
   {
    "duration": 543,
    "start_time": "2024-12-27T18:25:41.281Z"
   },
   {
    "duration": 111,
    "start_time": "2024-12-27T18:27:15.015Z"
   },
   {
    "duration": 7,
    "start_time": "2024-12-27T18:29:49.009Z"
   },
   {
    "duration": 4,
    "start_time": "2024-12-27T18:30:01.409Z"
   },
   {
    "duration": 3,
    "start_time": "2024-12-27T18:30:15.730Z"
   },
   {
    "duration": 112,
    "start_time": "2024-12-27T18:30:22.361Z"
   },
   {
    "duration": 145,
    "start_time": "2024-12-27T18:31:06.854Z"
   },
   {
    "duration": 141,
    "start_time": "2024-12-27T18:31:28.368Z"
   },
   {
    "duration": 166,
    "start_time": "2024-12-27T18:34:48.651Z"
   },
   {
    "duration": 203,
    "start_time": "2024-12-27T18:37:20.023Z"
   },
   {
    "duration": 125,
    "start_time": "2024-12-27T18:49:37.202Z"
   },
   {
    "duration": 156,
    "start_time": "2024-12-27T18:49:45.913Z"
   },
   {
    "duration": 168,
    "start_time": "2024-12-27T18:50:03.404Z"
   },
   {
    "duration": 94,
    "start_time": "2024-12-27T18:55:55.105Z"
   },
   {
    "duration": 125,
    "start_time": "2024-12-27T18:59:38.221Z"
   },
   {
    "duration": 102,
    "start_time": "2024-12-27T19:00:48.873Z"
   },
   {
    "duration": 92,
    "start_time": "2024-12-27T19:01:39.816Z"
   },
   {
    "duration": 92,
    "start_time": "2024-12-27T19:02:33.070Z"
   },
   {
    "duration": 92,
    "start_time": "2024-12-27T19:02:44.202Z"
   },
   {
    "duration": 93,
    "start_time": "2024-12-27T19:03:04.955Z"
   },
   {
    "duration": 93,
    "start_time": "2024-12-27T19:04:08.915Z"
   },
   {
    "duration": 94,
    "start_time": "2024-12-27T19:05:29.991Z"
   },
   {
    "duration": 92,
    "start_time": "2024-12-27T19:05:59.910Z"
   },
   {
    "duration": 105,
    "start_time": "2024-12-27T19:09:09.442Z"
   },
   {
    "duration": 92,
    "start_time": "2024-12-27T19:09:22.495Z"
   },
   {
    "duration": 93,
    "start_time": "2024-12-27T19:09:39.072Z"
   },
   {
    "duration": 140,
    "start_time": "2024-12-27T19:10:27.160Z"
   },
   {
    "duration": 110,
    "start_time": "2024-12-27T19:10:33.617Z"
   },
   {
    "duration": 115,
    "start_time": "2024-12-27T19:17:17.325Z"
   },
   {
    "duration": 147,
    "start_time": "2024-12-27T19:18:24.429Z"
   },
   {
    "duration": 131,
    "start_time": "2024-12-27T19:18:29.555Z"
   },
   {
    "duration": 165,
    "start_time": "2024-12-27T19:19:19.490Z"
   },
   {
    "duration": 168,
    "start_time": "2024-12-27T19:19:42.041Z"
   },
   {
    "duration": 135,
    "start_time": "2024-12-27T19:19:44.116Z"
   },
   {
    "duration": 96,
    "start_time": "2024-12-27T19:21:52.081Z"
   },
   {
    "duration": 5,
    "start_time": "2024-12-27T19:35:20.582Z"
   },
   {
    "duration": 6,
    "start_time": "2024-12-27T19:35:34.304Z"
   },
   {
    "duration": 113,
    "start_time": "2024-12-27T19:35:56.495Z"
   },
   {
    "duration": 105,
    "start_time": "2024-12-27T19:36:11.953Z"
   },
   {
    "duration": 102,
    "start_time": "2024-12-27T19:36:29.167Z"
   },
   {
    "duration": 102,
    "start_time": "2024-12-27T19:36:40.904Z"
   },
   {
    "duration": 121,
    "start_time": "2024-12-27T19:38:16.328Z"
   },
   {
    "duration": 108,
    "start_time": "2024-12-27T19:38:35.789Z"
   },
   {
    "duration": 448,
    "start_time": "2024-12-27T19:48:46.252Z"
   },
   {
    "duration": 116,
    "start_time": "2024-12-27T19:49:17.083Z"
   },
   {
    "duration": 102,
    "start_time": "2024-12-27T19:53:32.207Z"
   },
   {
    "duration": 99,
    "start_time": "2024-12-27T19:53:39.971Z"
   },
   {
    "duration": 352,
    "start_time": "2024-12-27T19:59:25.885Z"
   },
   {
    "duration": 99,
    "start_time": "2024-12-27T19:59:35.534Z"
   },
   {
    "duration": 99,
    "start_time": "2024-12-27T20:02:00.686Z"
   },
   {
    "duration": 94,
    "start_time": "2024-12-27T20:02:12.995Z"
   },
   {
    "duration": 126,
    "start_time": "2024-12-27T20:02:34.531Z"
   },
   {
    "duration": 104,
    "start_time": "2024-12-27T20:03:02.633Z"
   },
   {
    "duration": 97,
    "start_time": "2024-12-27T20:03:25.808Z"
   },
   {
    "duration": 5,
    "start_time": "2024-12-27T20:14:52.689Z"
   },
   {
    "duration": 4,
    "start_time": "2024-12-27T20:15:21.470Z"
   },
   {
    "duration": 4,
    "start_time": "2024-12-27T20:22:48.895Z"
   },
   {
    "duration": 4,
    "start_time": "2024-12-27T20:25:01.241Z"
   },
   {
    "duration": 5,
    "start_time": "2024-12-27T20:25:14.760Z"
   },
   {
    "duration": 4,
    "start_time": "2024-12-27T20:25:21.293Z"
   },
   {
    "duration": 5,
    "start_time": "2024-12-27T20:25:26.258Z"
   },
   {
    "duration": 111,
    "start_time": "2024-12-27T20:25:30.257Z"
   },
   {
    "duration": 106,
    "start_time": "2024-12-27T20:25:52.641Z"
   },
   {
    "duration": 88,
    "start_time": "2024-12-27T20:26:44.680Z"
   },
   {
    "duration": 90,
    "start_time": "2024-12-27T20:26:46.909Z"
   },
   {
    "duration": 90,
    "start_time": "2024-12-27T20:26:48.477Z"
   },
   {
    "duration": 6,
    "start_time": "2024-12-27T20:27:43.550Z"
   },
   {
    "duration": 113,
    "start_time": "2024-12-27T20:28:06.769Z"
   },
   {
    "duration": 103,
    "start_time": "2024-12-27T20:28:52.778Z"
   },
   {
    "duration": 110,
    "start_time": "2024-12-27T20:29:08.903Z"
   },
   {
    "duration": 102,
    "start_time": "2024-12-27T20:29:18.485Z"
   },
   {
    "duration": 100,
    "start_time": "2024-12-27T20:29:42.331Z"
   },
   {
    "duration": 104,
    "start_time": "2024-12-27T20:30:12.250Z"
   },
   {
    "duration": 96,
    "start_time": "2024-12-27T20:31:37.651Z"
   },
   {
    "duration": 4,
    "start_time": "2024-12-27T20:32:35.530Z"
   },
   {
    "duration": 113,
    "start_time": "2024-12-27T20:32:43.593Z"
   },
   {
    "duration": 5,
    "start_time": "2024-12-27T20:32:53.380Z"
   },
   {
    "duration": 4,
    "start_time": "2024-12-27T20:33:13.274Z"
   },
   {
    "duration": 4,
    "start_time": "2024-12-27T20:33:19.175Z"
   },
   {
    "duration": 4,
    "start_time": "2024-12-27T20:33:23.930Z"
   },
   {
    "duration": 99,
    "start_time": "2024-12-27T20:33:29.295Z"
   },
   {
    "duration": 106,
    "start_time": "2024-12-27T20:33:52.399Z"
   },
   {
    "duration": 98,
    "start_time": "2024-12-27T20:36:42.936Z"
   },
   {
    "duration": 89,
    "start_time": "2024-12-27T20:44:36.673Z"
   },
   {
    "duration": 91,
    "start_time": "2024-12-27T20:44:39.040Z"
   },
   {
    "duration": 5,
    "start_time": "2024-12-27T20:45:31.254Z"
   },
   {
    "duration": 279,
    "start_time": "2024-12-27T20:45:39.118Z"
   },
   {
    "duration": 143,
    "start_time": "2024-12-27T20:46:09.813Z"
   },
   {
    "duration": 4,
    "start_time": "2024-12-27T20:46:18.375Z"
   },
   {
    "duration": 5,
    "start_time": "2024-12-27T20:47:58.371Z"
   },
   {
    "duration": 4,
    "start_time": "2024-12-27T20:48:17.799Z"
   },
   {
    "duration": 4,
    "start_time": "2024-12-27T20:48:29.836Z"
   },
   {
    "duration": 4,
    "start_time": "2024-12-27T20:49:00.340Z"
   },
   {
    "duration": 3,
    "start_time": "2024-12-27T20:49:10.170Z"
   },
   {
    "duration": 92,
    "start_time": "2024-12-27T20:54:37.398Z"
   },
   {
    "duration": 503,
    "start_time": "2024-12-27T20:54:50.817Z"
   },
   {
    "duration": 174,
    "start_time": "2024-12-27T20:57:35.824Z"
   },
   {
    "duration": 203,
    "start_time": "2024-12-27T20:58:08.879Z"
   },
   {
    "duration": 97,
    "start_time": "2024-12-27T20:58:41.405Z"
   },
   {
    "duration": 100,
    "start_time": "2024-12-27T20:59:13.277Z"
   },
   {
    "duration": 109,
    "start_time": "2024-12-27T21:03:33.682Z"
   },
   {
    "duration": 105,
    "start_time": "2024-12-27T21:04:01.906Z"
   },
   {
    "duration": 95,
    "start_time": "2024-12-27T21:05:42.511Z"
   },
   {
    "duration": 94,
    "start_time": "2024-12-27T21:05:45.222Z"
   },
   {
    "duration": 106,
    "start_time": "2024-12-27T21:06:00.710Z"
   },
   {
    "duration": 5,
    "start_time": "2024-12-27T21:06:18.563Z"
   },
   {
    "duration": 96,
    "start_time": "2024-12-27T21:06:34.712Z"
   },
   {
    "duration": 96,
    "start_time": "2024-12-27T21:06:36.889Z"
   },
   {
    "duration": 4,
    "start_time": "2024-12-27T21:06:46.479Z"
   },
   {
    "duration": 99,
    "start_time": "2024-12-27T21:07:02.736Z"
   },
   {
    "duration": 93,
    "start_time": "2024-12-27T21:07:04.931Z"
   },
   {
    "duration": 4,
    "start_time": "2024-12-27T21:07:07.482Z"
   },
   {
    "duration": 6,
    "start_time": "2024-12-27T21:07:36.559Z"
   },
   {
    "duration": 94,
    "start_time": "2024-12-27T21:07:41.397Z"
   },
   {
    "duration": 94,
    "start_time": "2024-12-27T21:07:43.489Z"
   },
   {
    "duration": 99,
    "start_time": "2024-12-27T21:08:12.343Z"
   },
   {
    "duration": 104,
    "start_time": "2024-12-27T21:10:59.457Z"
   },
   {
    "duration": 106,
    "start_time": "2024-12-27T21:11:15.964Z"
   },
   {
    "duration": 105,
    "start_time": "2024-12-27T21:12:24.140Z"
   },
   {
    "duration": 105,
    "start_time": "2024-12-27T21:12:39.144Z"
   },
   {
    "duration": 94,
    "start_time": "2024-12-27T21:13:12.875Z"
   },
   {
    "duration": 95,
    "start_time": "2024-12-27T21:13:27.526Z"
   },
   {
    "duration": 97,
    "start_time": "2024-12-27T21:13:35.665Z"
   },
   {
    "duration": 97,
    "start_time": "2024-12-27T21:14:00.002Z"
   },
   {
    "duration": 95,
    "start_time": "2024-12-27T21:14:09.578Z"
   },
   {
    "duration": 96,
    "start_time": "2024-12-27T21:14:21.717Z"
   },
   {
    "duration": 107,
    "start_time": "2024-12-27T21:14:37.090Z"
   },
   {
    "duration": 97,
    "start_time": "2024-12-27T21:17:10.027Z"
   },
   {
    "duration": 96,
    "start_time": "2024-12-27T21:17:40.324Z"
   },
   {
    "duration": 97,
    "start_time": "2024-12-27T21:18:48.954Z"
   },
   {
    "duration": 95,
    "start_time": "2024-12-27T21:19:21.198Z"
   },
   {
    "duration": 97,
    "start_time": "2024-12-27T21:19:46.086Z"
   },
   {
    "duration": 103,
    "start_time": "2024-12-27T21:21:06.216Z"
   },
   {
    "duration": 101,
    "start_time": "2024-12-27T21:21:52.572Z"
   },
   {
    "duration": 95,
    "start_time": "2024-12-27T21:22:10.898Z"
   },
   {
    "duration": 105,
    "start_time": "2024-12-27T21:23:08.921Z"
   },
   {
    "duration": 122,
    "start_time": "2024-12-27T21:24:00.720Z"
   },
   {
    "duration": 101,
    "start_time": "2024-12-27T21:24:11.423Z"
   },
   {
    "duration": 106,
    "start_time": "2024-12-27T21:24:29.549Z"
   },
   {
    "duration": 103,
    "start_time": "2024-12-27T21:24:49.073Z"
   },
   {
    "duration": 103,
    "start_time": "2024-12-27T21:25:03.901Z"
   },
   {
    "duration": 102,
    "start_time": "2024-12-27T21:25:19.018Z"
   },
   {
    "duration": 111,
    "start_time": "2024-12-27T21:25:31.351Z"
   },
   {
    "duration": 268,
    "start_time": "2024-12-27T21:30:40.449Z"
   },
   {
    "duration": 130,
    "start_time": "2024-12-27T21:32:33.196Z"
   },
   {
    "duration": 147,
    "start_time": "2024-12-27T21:32:52.316Z"
   },
   {
    "duration": 267,
    "start_time": "2024-12-27T21:36:22.256Z"
   },
   {
    "duration": 250,
    "start_time": "2024-12-27T21:38:21.013Z"
   },
   {
    "duration": 120,
    "start_time": "2024-12-27T21:39:17.850Z"
   },
   {
    "duration": 129,
    "start_time": "2024-12-27T21:39:34.354Z"
   },
   {
    "duration": 154,
    "start_time": "2024-12-27T21:40:33.438Z"
   },
   {
    "duration": 93,
    "start_time": "2024-12-27T21:41:53.163Z"
   },
   {
    "duration": 106,
    "start_time": "2024-12-27T21:42:36.566Z"
   },
   {
    "duration": 8,
    "start_time": "2024-12-27T21:42:49.352Z"
   },
   {
    "duration": 101,
    "start_time": "2024-12-27T21:42:59.151Z"
   },
   {
    "duration": 110,
    "start_time": "2024-12-27T21:43:41.406Z"
   },
   {
    "duration": 94,
    "start_time": "2024-12-27T21:44:15.244Z"
   },
   {
    "duration": 96,
    "start_time": "2024-12-27T21:44:45.542Z"
   },
   {
    "duration": 94,
    "start_time": "2024-12-27T21:44:59.570Z"
   },
   {
    "duration": 96,
    "start_time": "2024-12-27T21:45:20.149Z"
   },
   {
    "duration": 105,
    "start_time": "2024-12-27T21:46:32.048Z"
   },
   {
    "duration": 106,
    "start_time": "2024-12-27T21:48:57.705Z"
   },
   {
    "duration": 103,
    "start_time": "2024-12-27T21:50:09.859Z"
   },
   {
    "duration": 109,
    "start_time": "2024-12-27T21:50:38.105Z"
   },
   {
    "duration": 112,
    "start_time": "2024-12-27T21:51:15.427Z"
   },
   {
    "duration": 107,
    "start_time": "2024-12-27T21:51:34.365Z"
   },
   {
    "duration": 95,
    "start_time": "2024-12-27T21:52:04.679Z"
   },
   {
    "duration": 96,
    "start_time": "2024-12-27T21:53:02.915Z"
   },
   {
    "duration": 104,
    "start_time": "2024-12-27T21:53:09.877Z"
   },
   {
    "duration": 95,
    "start_time": "2024-12-27T21:53:21.986Z"
   },
   {
    "duration": 97,
    "start_time": "2024-12-27T21:53:49.870Z"
   },
   {
    "duration": 97,
    "start_time": "2024-12-27T21:54:12.674Z"
   },
   {
    "duration": 109,
    "start_time": "2024-12-27T22:06:00.447Z"
   },
   {
    "duration": 104,
    "start_time": "2024-12-27T22:06:24.994Z"
   },
   {
    "duration": 107,
    "start_time": "2024-12-27T22:06:47.889Z"
   },
   {
    "duration": 5,
    "start_time": "2024-12-27T22:07:06.333Z"
   },
   {
    "duration": 103,
    "start_time": "2024-12-27T22:07:12.162Z"
   },
   {
    "duration": 106,
    "start_time": "2024-12-27T22:08:12.468Z"
   },
   {
    "duration": 98,
    "start_time": "2024-12-27T22:09:26.803Z"
   },
   {
    "duration": 95,
    "start_time": "2024-12-27T22:09:48.730Z"
   },
   {
    "duration": 97,
    "start_time": "2024-12-27T22:10:00.985Z"
   },
   {
    "duration": 99,
    "start_time": "2024-12-27T22:10:08.288Z"
   },
   {
    "duration": 98,
    "start_time": "2024-12-27T22:11:00.856Z"
   },
   {
    "duration": 98,
    "start_time": "2024-12-27T22:14:26.544Z"
   },
   {
    "duration": 95,
    "start_time": "2024-12-27T22:14:29.867Z"
   },
   {
    "duration": 94,
    "start_time": "2024-12-27T22:15:18.915Z"
   },
   {
    "duration": 98,
    "start_time": "2024-12-27T22:15:22.218Z"
   },
   {
    "duration": 5,
    "start_time": "2024-12-27T22:15:24.630Z"
   },
   {
    "duration": 97,
    "start_time": "2024-12-27T22:16:05.681Z"
   },
   {
    "duration": 95,
    "start_time": "2024-12-27T22:17:05.360Z"
   },
   {
    "duration": 95,
    "start_time": "2024-12-27T22:17:33.836Z"
   },
   {
    "duration": 94,
    "start_time": "2024-12-27T22:17:41.016Z"
   },
   {
    "duration": 6,
    "start_time": "2024-12-27T22:17:51.478Z"
   },
   {
    "duration": 4,
    "start_time": "2024-12-27T22:17:56.450Z"
   },
   {
    "duration": 93,
    "start_time": "2024-12-27T22:17:59.378Z"
   },
   {
    "duration": 108,
    "start_time": "2024-12-27T22:18:44.659Z"
   },
   {
    "duration": 96,
    "start_time": "2024-12-27T22:19:08.470Z"
   },
   {
    "duration": 93,
    "start_time": "2024-12-27T22:19:11.452Z"
   },
   {
    "duration": 95,
    "start_time": "2024-12-27T22:19:43.272Z"
   },
   {
    "duration": 99,
    "start_time": "2024-12-27T22:19:46.043Z"
   },
   {
    "duration": 97,
    "start_time": "2024-12-27T22:21:31.098Z"
   },
   {
    "duration": 100,
    "start_time": "2024-12-27T22:22:20.383Z"
   },
   {
    "duration": 100,
    "start_time": "2024-12-27T22:22:51.793Z"
   },
   {
    "duration": 97,
    "start_time": "2024-12-27T22:23:05.243Z"
   },
   {
    "duration": 96,
    "start_time": "2024-12-27T22:30:05.065Z"
   },
   {
    "duration": 93,
    "start_time": "2024-12-27T22:33:16.075Z"
   },
   {
    "duration": 94,
    "start_time": "2024-12-27T22:33:18.648Z"
   },
   {
    "duration": 92,
    "start_time": "2024-12-27T22:33:39.558Z"
   },
   {
    "duration": 91,
    "start_time": "2024-12-27T22:33:42.599Z"
   },
   {
    "duration": 234,
    "start_time": "2024-12-27T22:34:19.666Z"
   },
   {
    "duration": 251,
    "start_time": "2024-12-27T22:35:08.286Z"
   },
   {
    "duration": 241,
    "start_time": "2024-12-27T22:35:10.180Z"
   },
   {
    "duration": 245,
    "start_time": "2024-12-27T22:35:42.311Z"
   },
   {
    "duration": 245,
    "start_time": "2024-12-27T22:35:55.086Z"
   },
   {
    "duration": 244,
    "start_time": "2024-12-27T22:37:34.025Z"
   },
   {
    "duration": 128,
    "start_time": "2024-12-27T22:38:04.033Z"
   },
   {
    "duration": 138,
    "start_time": "2024-12-27T22:38:26.360Z"
   },
   {
    "duration": 128,
    "start_time": "2024-12-27T22:38:34.321Z"
   },
   {
    "duration": 132,
    "start_time": "2024-12-27T22:38:46.863Z"
   },
   {
    "duration": 111,
    "start_time": "2024-12-27T22:38:58.347Z"
   },
   {
    "duration": 93,
    "start_time": "2024-12-27T22:44:08.853Z"
   },
   {
    "duration": 95,
    "start_time": "2024-12-27T22:44:12.172Z"
   },
   {
    "duration": 93,
    "start_time": "2024-12-27T22:44:14.890Z"
   },
   {
    "duration": 91,
    "start_time": "2024-12-27T22:44:28.873Z"
   },
   {
    "duration": 92,
    "start_time": "2024-12-27T22:44:43.776Z"
   },
   {
    "duration": 99,
    "start_time": "2024-12-27T22:45:18.570Z"
   },
   {
    "duration": 112,
    "start_time": "2024-12-27T22:45:34.465Z"
   },
   {
    "duration": 93,
    "start_time": "2024-12-27T22:46:32.215Z"
   },
   {
    "duration": 97,
    "start_time": "2024-12-27T22:46:36.632Z"
   },
   {
    "duration": 2,
    "start_time": "2024-12-27T22:46:38.475Z"
   },
   {
    "duration": 93,
    "start_time": "2024-12-27T22:46:46.105Z"
   },
   {
    "duration": 98,
    "start_time": "2024-12-27T22:47:01.188Z"
   },
   {
    "duration": 94,
    "start_time": "2024-12-27T22:47:48.755Z"
   },
   {
    "duration": 103,
    "start_time": "2024-12-27T22:48:37.377Z"
   },
   {
    "duration": 12,
    "start_time": "2024-12-27T22:48:54.786Z"
   },
   {
    "duration": 101,
    "start_time": "2024-12-27T22:49:51.039Z"
   },
   {
    "duration": 12,
    "start_time": "2024-12-27T22:49:58.095Z"
   },
   {
    "duration": 17,
    "start_time": "2024-12-27T22:50:11.985Z"
   },
   {
    "duration": 8,
    "start_time": "2024-12-27T22:50:35.353Z"
   },
   {
    "duration": 8,
    "start_time": "2024-12-27T22:50:44.904Z"
   },
   {
    "duration": 13,
    "start_time": "2024-12-27T22:50:55.092Z"
   },
   {
    "duration": 11,
    "start_time": "2024-12-27T22:51:18.325Z"
   },
   {
    "duration": 15,
    "start_time": "2024-12-27T22:51:32.807Z"
   },
   {
    "duration": 10,
    "start_time": "2024-12-27T22:51:47.834Z"
   },
   {
    "duration": 112,
    "start_time": "2024-12-27T23:00:40.361Z"
   },
   {
    "duration": 485,
    "start_time": "2024-12-27T23:02:05.537Z"
   },
   {
    "duration": 102,
    "start_time": "2024-12-27T23:02:28.528Z"
   },
   {
    "duration": 101,
    "start_time": "2024-12-27T23:02:49.338Z"
   },
   {
    "duration": 4,
    "start_time": "2024-12-27T23:03:00.116Z"
   },
   {
    "duration": 107,
    "start_time": "2024-12-27T23:03:09.219Z"
   },
   {
    "duration": 85,
    "start_time": "2024-12-27T23:03:18.378Z"
   },
   {
    "duration": 6,
    "start_time": "2024-12-27T23:03:47.883Z"
   },
   {
    "duration": 104,
    "start_time": "2024-12-27T23:03:53.457Z"
   },
   {
    "duration": 111,
    "start_time": "2024-12-27T23:04:21.997Z"
   },
   {
    "duration": 137,
    "start_time": "2024-12-27T23:05:51.215Z"
   },
   {
    "duration": 4,
    "start_time": "2024-12-27T23:06:42.532Z"
   },
   {
    "duration": 5,
    "start_time": "2024-12-27T23:06:54.426Z"
   },
   {
    "duration": 120,
    "start_time": "2024-12-27T23:06:58.072Z"
   },
   {
    "duration": 6,
    "start_time": "2024-12-27T23:08:04.668Z"
   },
   {
    "duration": 4,
    "start_time": "2024-12-27T23:08:45.043Z"
   },
   {
    "duration": 4,
    "start_time": "2024-12-27T23:08:50.749Z"
   },
   {
    "duration": 5,
    "start_time": "2024-12-27T23:08:54.701Z"
   },
   {
    "duration": 102,
    "start_time": "2024-12-27T23:09:05.211Z"
   },
   {
    "duration": 102,
    "start_time": "2024-12-27T23:14:10.973Z"
   },
   {
    "duration": 104,
    "start_time": "2024-12-27T23:15:17.242Z"
   },
   {
    "duration": 112,
    "start_time": "2024-12-27T23:15:31.623Z"
   },
   {
    "duration": 134,
    "start_time": "2024-12-27T23:16:17.236Z"
   },
   {
    "duration": 156,
    "start_time": "2024-12-27T23:16:41.470Z"
   },
   {
    "duration": 4,
    "start_time": "2024-12-27T23:16:58.087Z"
   },
   {
    "duration": 159,
    "start_time": "2024-12-27T23:17:03.698Z"
   },
   {
    "duration": 155,
    "start_time": "2024-12-27T23:17:54.363Z"
   },
   {
    "duration": 155,
    "start_time": "2024-12-27T23:18:12.116Z"
   },
   {
    "duration": 174,
    "start_time": "2024-12-27T23:18:33.391Z"
   },
   {
    "duration": 5,
    "start_time": "2024-12-27T23:18:41.269Z"
   },
   {
    "duration": 139,
    "start_time": "2024-12-27T23:18:45.638Z"
   },
   {
    "duration": 95,
    "start_time": "2024-12-27T23:19:06.286Z"
   },
   {
    "duration": 91,
    "start_time": "2024-12-27T23:21:00.073Z"
   },
   {
    "duration": 91,
    "start_time": "2024-12-27T23:21:15.625Z"
   },
   {
    "duration": 91,
    "start_time": "2024-12-27T23:22:22.562Z"
   },
   {
    "duration": 112,
    "start_time": "2024-12-27T23:22:36.480Z"
   },
   {
    "duration": 93,
    "start_time": "2024-12-27T23:22:51.315Z"
   },
   {
    "duration": 94,
    "start_time": "2024-12-27T23:22:55.065Z"
   },
   {
    "duration": 92,
    "start_time": "2024-12-27T23:22:57.434Z"
   },
   {
    "duration": 19,
    "start_time": "2024-12-27T23:23:06.161Z"
   },
   {
    "duration": 17,
    "start_time": "2024-12-27T23:23:13.157Z"
   },
   {
    "duration": 88,
    "start_time": "2024-12-27T23:23:20.940Z"
   },
   {
    "duration": 101,
    "start_time": "2024-12-27T23:23:28.014Z"
   },
   {
    "duration": 92,
    "start_time": "2024-12-27T23:23:37.791Z"
   },
   {
    "duration": 91,
    "start_time": "2024-12-27T23:23:48.425Z"
   },
   {
    "duration": 92,
    "start_time": "2024-12-27T23:23:54.737Z"
   },
   {
    "duration": 92,
    "start_time": "2024-12-27T23:24:06.976Z"
   },
   {
    "duration": 100,
    "start_time": "2024-12-27T23:24:19.822Z"
   },
   {
    "duration": 98,
    "start_time": "2024-12-27T23:24:31.295Z"
   },
   {
    "duration": 93,
    "start_time": "2024-12-27T23:26:54.772Z"
   },
   {
    "duration": 91,
    "start_time": "2024-12-27T23:26:57.971Z"
   },
   {
    "duration": 3,
    "start_time": "2024-12-27T23:27:18.217Z"
   },
   {
    "duration": 92,
    "start_time": "2024-12-27T23:27:30.000Z"
   },
   {
    "duration": 17,
    "start_time": "2024-12-27T23:27:38.260Z"
   },
   {
    "duration": 109,
    "start_time": "2024-12-27T23:30:15.865Z"
   },
   {
    "duration": 89,
    "start_time": "2024-12-27T23:30:28.610Z"
   },
   {
    "duration": 92,
    "start_time": "2024-12-27T23:30:38.939Z"
   },
   {
    "duration": 93,
    "start_time": "2024-12-27T23:30:45.221Z"
   },
   {
    "duration": 4,
    "start_time": "2024-12-27T23:30:52.142Z"
   },
   {
    "duration": 91,
    "start_time": "2024-12-27T23:31:00.162Z"
   },
   {
    "duration": 8,
    "start_time": "2024-12-27T23:32:16.725Z"
   },
   {
    "duration": 3,
    "start_time": "2024-12-27T23:32:25.998Z"
   },
   {
    "duration": 3,
    "start_time": "2024-12-27T23:32:28.003Z"
   },
   {
    "duration": 4,
    "start_time": "2024-12-27T23:32:29.837Z"
   },
   {
    "duration": 3,
    "start_time": "2024-12-27T23:32:31.508Z"
   },
   {
    "duration": 4,
    "start_time": "2024-12-27T23:32:50.457Z"
   },
   {
    "duration": 4,
    "start_time": "2024-12-27T23:32:53.839Z"
   },
   {
    "duration": 11,
    "start_time": "2024-12-27T23:32:54.426Z"
   },
   {
    "duration": 14,
    "start_time": "2024-12-27T23:32:54.938Z"
   },
   {
    "duration": 13,
    "start_time": "2024-12-27T23:32:55.491Z"
   },
   {
    "duration": 4,
    "start_time": "2024-12-27T23:33:16.311Z"
   },
   {
    "duration": 16,
    "start_time": "2024-12-27T23:33:33.388Z"
   },
   {
    "duration": 94,
    "start_time": "2024-12-27T23:34:18.238Z"
   },
   {
    "duration": 238,
    "start_time": "2024-12-27T23:35:50.598Z"
   },
   {
    "duration": 91,
    "start_time": "2024-12-27T23:35:54.149Z"
   },
   {
    "duration": 156,
    "start_time": "2024-12-28T16:33:20.413Z"
   },
   {
    "duration": 12,
    "start_time": "2024-12-28T16:34:00.129Z"
   },
   {
    "duration": 11,
    "start_time": "2024-12-28T16:34:02.534Z"
   },
   {
    "duration": 12,
    "start_time": "2024-12-28T16:38:37.594Z"
   },
   {
    "duration": 465,
    "start_time": "2024-12-28T16:38:43.535Z"
   },
   {
    "duration": 132,
    "start_time": "2024-12-28T16:40:14.604Z"
   },
   {
    "duration": 121,
    "start_time": "2024-12-28T16:48:22.200Z"
   },
   {
    "duration": 109,
    "start_time": "2024-12-28T16:51:16.768Z"
   },
   {
    "duration": 516,
    "start_time": "2024-12-28T16:53:46.151Z"
   },
   {
    "duration": 129,
    "start_time": "2024-12-28T16:54:26.921Z"
   },
   {
    "duration": 7,
    "start_time": "2024-12-28T16:55:36.678Z"
   },
   {
    "duration": 4,
    "start_time": "2024-12-28T16:55:45.739Z"
   },
   {
    "duration": 4,
    "start_time": "2024-12-28T16:55:59.890Z"
   },
   {
    "duration": 136,
    "start_time": "2024-12-28T16:56:26.828Z"
   },
   {
    "duration": 132,
    "start_time": "2024-12-28T16:56:35.661Z"
   },
   {
    "duration": 131,
    "start_time": "2024-12-28T16:57:24.297Z"
   },
   {
    "duration": 150,
    "start_time": "2024-12-28T16:57:35.379Z"
   },
   {
    "duration": 133,
    "start_time": "2024-12-28T16:57:42.135Z"
   },
   {
    "duration": 134,
    "start_time": "2024-12-28T16:57:56.604Z"
   },
   {
    "duration": 124,
    "start_time": "2024-12-28T16:58:07.234Z"
   },
   {
    "duration": 133,
    "start_time": "2024-12-28T16:58:49.589Z"
   },
   {
    "duration": 131,
    "start_time": "2024-12-28T17:00:20.267Z"
   },
   {
    "duration": 135,
    "start_time": "2024-12-28T17:00:33.999Z"
   },
   {
    "duration": 137,
    "start_time": "2024-12-28T17:00:57.545Z"
   },
   {
    "duration": 136,
    "start_time": "2024-12-28T17:01:21.288Z"
   },
   {
    "duration": 136,
    "start_time": "2024-12-28T17:01:37.612Z"
   },
   {
    "duration": 134,
    "start_time": "2024-12-28T17:01:50.827Z"
   },
   {
    "duration": 129,
    "start_time": "2024-12-28T17:02:04.070Z"
   },
   {
    "duration": 104,
    "start_time": "2024-12-28T17:02:20.338Z"
   },
   {
    "duration": 107,
    "start_time": "2024-12-28T17:02:28.281Z"
   },
   {
    "duration": 106,
    "start_time": "2024-12-28T17:02:28.925Z"
   },
   {
    "duration": 107,
    "start_time": "2024-12-28T17:02:48.366Z"
   },
   {
    "duration": 98,
    "start_time": "2024-12-28T17:02:53.387Z"
   },
   {
    "duration": 107,
    "start_time": "2024-12-28T17:03:10.601Z"
   },
   {
    "duration": 106,
    "start_time": "2024-12-28T17:03:14.118Z"
   },
   {
    "duration": 95,
    "start_time": "2024-12-28T17:09:42.812Z"
   },
   {
    "duration": 93,
    "start_time": "2024-12-28T17:09:46.104Z"
   },
   {
    "duration": 6,
    "start_time": "2024-12-28T17:09:53.685Z"
   },
   {
    "duration": 81,
    "start_time": "2024-12-28T17:10:16.744Z"
   },
   {
    "duration": 3,
    "start_time": "2024-12-28T17:10:24.407Z"
   },
   {
    "duration": 4,
    "start_time": "2024-12-28T17:10:31.528Z"
   },
   {
    "duration": 4,
    "start_time": "2024-12-28T17:10:37.714Z"
   },
   {
    "duration": 3,
    "start_time": "2024-12-28T17:10:44.676Z"
   },
   {
    "duration": 4,
    "start_time": "2024-12-28T17:10:50.498Z"
   },
   {
    "duration": 25,
    "start_time": "2024-12-28T17:10:56.814Z"
   },
   {
    "duration": 47,
    "start_time": "2024-12-28T17:11:03.206Z"
   },
   {
    "duration": 94,
    "start_time": "2024-12-28T17:11:10.148Z"
   },
   {
    "duration": 105,
    "start_time": "2024-12-28T17:11:16.592Z"
   },
   {
    "duration": 10,
    "start_time": "2024-12-28T17:11:22.772Z"
   },
   {
    "duration": 36,
    "start_time": "2024-12-28T17:11:28.558Z"
   },
   {
    "duration": 40,
    "start_time": "2024-12-28T17:11:34.222Z"
   },
   {
    "duration": 45,
    "start_time": "2024-12-28T17:11:38.721Z"
   },
   {
    "duration": 79,
    "start_time": "2024-12-28T17:11:44.002Z"
   },
   {
    "duration": 6,
    "start_time": "2024-12-28T17:11:49.040Z"
   },
   {
    "duration": 14,
    "start_time": "2024-12-28T17:11:56.328Z"
   },
   {
    "duration": 19,
    "start_time": "2024-12-28T17:12:13.624Z"
   },
   {
    "duration": 22,
    "start_time": "2024-12-28T17:12:19.440Z"
   },
   {
    "duration": 10,
    "start_time": "2024-12-28T17:12:27.718Z"
   },
   {
    "duration": 9,
    "start_time": "2024-12-28T17:12:33.457Z"
   },
   {
    "duration": 10,
    "start_time": "2024-12-28T17:12:40.100Z"
   },
   {
    "duration": 46,
    "start_time": "2024-12-28T17:12:51.713Z"
   },
   {
    "duration": 99,
    "start_time": "2024-12-28T17:12:58.125Z"
   },
   {
    "duration": 7,
    "start_time": "2024-12-28T17:13:05.132Z"
   },
   {
    "duration": 18,
    "start_time": "2024-12-28T17:13:11.364Z"
   },
   {
    "duration": 14,
    "start_time": "2024-12-28T17:13:16.731Z"
   },
   {
    "duration": 16,
    "start_time": "2024-12-28T17:13:21.590Z"
   },
   {
    "duration": 13,
    "start_time": "2024-12-28T17:13:25.610Z"
   },
   {
    "duration": 19,
    "start_time": "2024-12-28T17:13:31.933Z"
   },
   {
    "duration": 13,
    "start_time": "2024-12-28T17:13:39.606Z"
   },
   {
    "duration": 27,
    "start_time": "2024-12-28T17:14:41.028Z"
   },
   {
    "duration": 4,
    "start_time": "2024-12-28T17:15:54.977Z"
   },
   {
    "duration": 7,
    "start_time": "2024-12-28T17:16:34.629Z"
   },
   {
    "duration": 20,
    "start_time": "2024-12-28T17:16:41.387Z"
   },
   {
    "duration": 5,
    "start_time": "2024-12-28T17:16:43.357Z"
   },
   {
    "duration": 5,
    "start_time": "2024-12-29T16:48:01.606Z"
   }
  ],
  "colab": {
   "collapsed_sections": [
    "E0vqbgi9ay0H",
    "VUC88oWjTJw2"
   ],
   "provenance": []
  },
  "kernelspec": {
   "display_name": "base",
   "language": "python",
   "name": "python3"
  },
  "language_info": {
   "codemirror_mode": {
    "name": "ipython",
    "version": 3
   },
   "file_extension": ".py",
   "mimetype": "text/x-python",
   "name": "python",
   "nbconvert_exporter": "python",
   "pygments_lexer": "ipython3",
   "version": "3.12.7"
  },
  "toc": {
   "base_numbering": 1,
   "nav_menu": {},
   "number_sections": true,
   "sideBar": true,
   "skip_h1_title": true,
   "title_cell": "Table of Contents",
   "title_sidebar": "Contents",
   "toc_cell": false,
   "toc_position": {},
   "toc_section_display": true,
   "toc_window_display": false
  }
 },
 "nbformat": 4,
 "nbformat_minor": 1
}
