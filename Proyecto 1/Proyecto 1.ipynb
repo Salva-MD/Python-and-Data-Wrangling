{
 "cells": [
  {
   "cell_type": "code",
   "execution_count": 1,
   "metadata": {
    "id": "LfBCH4crxLOt",
    "trusted": true
   },
   "outputs": [],
   "source": [
    "users = [\n",
    "    ['32415', ' mike_reed ', 32.0, ['ELECTRONICS', 'SPORT', 'BOOKS'], [894, 213, 173]],\n",
    "    ['31980', 'kate morgan', 24.0, ['CLOTHES', 'BOOKS'], [439, 390]],\n",
    "    ['32156', ' john doe ', 37.0, ['ELECTRONICS', 'HOME', 'FOOD'], [459, 120, 99]],\n",
    "    ['32761', 'SAMANTHA SMITH', 29.0, ['CLOTHES', 'ELECTRONICS', 'BEAUTY'], [299, 679, 85]],\n",
    "    ['32984', 'David White', 41.0, ['BOOKS', 'HOME', 'SPORT'], [234, 329, 243]],\n",
    "    ['33001', 'emily brown', 26.0, ['BEAUTY', 'HOME', 'FOOD'], [213, 659, 79]],\n",
    "    ['33767', ' Maria Garcia', 33.0, ['CLOTHES', 'FOOD', 'BEAUTY'], [499, 189, 63]],\n",
    "    ['33912', 'JOSE MARTINEZ', 22.0, ['SPORT', 'ELECTRONICS', 'HOME'], [259, 549, 109]],\n",
    "    ['34009', 'lisa wilson ', 35.0, ['HOME', 'BOOKS', 'CLOTHES'], [329, 189, 329]],\n",
    "    ['34278', 'James Lee', 28.0, ['BEAUTY', 'CLOTHES', 'ELECTRONICS'], [189, 299, 579]],\n",
    "]\n"
   ]
  },
  {
   "cell_type": "code",
   "execution_count": 2,
   "metadata": {
    "id": "kvRIX_jfJm9U",
    "trusted": true
   },
   "outputs": [],
   "source": [
    "user_id = '32415'\n",
    "user_name = ' mike_reed '\n",
    "user_age = 32.0\n",
    "fav_categories = ['ELECTRONICS', 'SPORT', 'BOOKS']"
   ]
  },
  {
   "cell_type": "code",
   "execution_count": 3,
   "metadata": {
    "colab": {
     "base_uri": "https://localhost:8080/"
    },
    "id": "_uOLKjF8Jm9V",
    "outputId": "630b0663-620c-44a2-f0d1-4b7b4a592b0b",
    "trusted": true
   },
   "outputs": [
    {
     "name": "stdout",
     "output_type": "stream",
     "text": [
      "mike reed\n"
     ]
    }
   ],
   "source": [
    "user_name = ' mike_reed '\n",
    "user_name = user_name.strip()\n",
    "user_name = user_name.replace('_',' ') \n",
    "\n",
    "print(user_name)"
   ]
  },
  {
   "cell_type": "code",
   "execution_count": 4,
   "metadata": {
    "colab": {
     "base_uri": "https://localhost:8080/"
    },
    "id": "0mYAxetNJm9W",
    "outputId": "2128b910-489c-4939-cb24-6d0f6d45e877",
    "trusted": true
   },
   "outputs": [
    {
     "name": "stdout",
     "output_type": "stream",
     "text": [
      "['mike', 'reed']\n"
     ]
    }
   ],
   "source": [
    "user_name = 'mike reed'\n",
    "name_split=user_name.split()\n",
    "\n",
    "print(name_split)"
   ]
  },
  {
   "cell_type": "code",
   "execution_count": 5,
   "metadata": {
    "colab": {
     "base_uri": "https://localhost:8080/"
    },
    "id": "g0FZSll4Jm9W",
    "outputId": "8b977bc7-e315-4a27-97ad-645570ed60bc",
    "trusted": true
   },
   "outputs": [
    {
     "name": "stdout",
     "output_type": "stream",
     "text": [
      "32.0\n"
     ]
    }
   ],
   "source": [
    "user_age = '32.0'\n",
    "user_age=float(user_age)\n",
    "print(user_age)"
   ]
  },
  {
   "cell_type": "code",
   "execution_count": 6,
   "metadata": {
    "colab": {
     "base_uri": "https://localhost:8080/"
    },
    "id": "bKxiA-voJm9W",
    "outputId": "829a78ce-a7a5-4195-c424-90e9982c63ce",
    "trusted": true
   },
   "outputs": [
    {
     "name": "stdout",
     "output_type": "stream",
     "text": [
      "Please provide your age as a numerical value.\n"
     ]
    }
   ],
   "source": [
    "user_age = 'treinta y dos'\n",
    "\n",
    "try:\n",
    "    user_age_int=int(user_age)\n",
    "except ValueError:\n",
    "    print('Please provide your age as a numerical value.')"
   ]
  },
  {
   "cell_type": "code",
   "execution_count": 7,
   "metadata": {
    "colab": {
     "base_uri": "https://localhost:8080/"
    },
    "id": "Re_QlnnLW3Jo",
    "outputId": "8b977bc7-e315-4a27-97ad-645570ed60bc",
    "trusted": true
   },
   "outputs": [
    {
     "name": "stdout",
     "output_type": "stream",
     "text": [
      "[['31980', 'kate morgan', 24.0, ['CLOTHES', 'BOOKS'], [439, 390]], ['32156', ' john doe ', 37.0, ['ELECTRONICS', 'HOME', 'FOOD'], [459, 120, 99]], ['32415', ' mike_reed ', 32.0, ['ELECTRONICS', 'SPORT', 'BOOKS'], [894, 213, 173]], ['32761', 'SAMANTHA SMITH', 29.0, ['CLOTHES', 'ELECTRONICS', 'BEAUTY'], [299, 679, 85]], ['32984', 'David White', 41.0, ['BOOKS', 'HOME', 'SPORT'], [234, 329, 243]], ['33001', 'emily brown', 26.0, ['BEAUTY', 'HOME', 'FOOD'], [213, 659, 79]], ['33767', ' Maria Garcia', 33.0, ['CLOTHES', 'FOOD', 'BEAUTY'], [499, 189, 63]], ['33912', 'JOSE MARTINEZ', 22.0, ['SPORT', 'ELECTRONICS', 'HOME'], [259, 549, 109]], ['34009', 'lisa wilson ', 35.0, ['HOME', 'BOOKS', 'CLOTHES'], [329, 189, 329]], ['34278', 'James Lee', 28.0, ['BEAUTY', 'CLOTHES', 'ELECTRONICS'], [189, 299, 579]]]\n"
     ]
    }
   ],
   "source": [
    "users = [\n",
    "    ['32415', ' mike_reed ', 32.0, ['ELECTRONICS', 'SPORT', 'BOOKS'], [894, 213, 173]],\n",
    "    ['31980', 'kate morgan', 24.0, ['CLOTHES', 'BOOKS'], [439, 390]],\n",
    "    ['32156', ' john doe ', 37.0, ['ELECTRONICS', 'HOME', 'FOOD'], [459, 120, 99]],\n",
    "    ['32761', 'SAMANTHA SMITH', 29.0, ['CLOTHES', 'ELECTRONICS', 'BEAUTY'], [299, 679, 85]],\n",
    "    ['32984', 'David White', 41.0, ['BOOKS', 'HOME', 'SPORT'], [234, 329, 243]],\n",
    "    ['33001', 'emily brown', 26.0, ['BEAUTY', 'HOME', 'FOOD'], [213, 659, 79]],\n",
    "    ['33767', ' Maria Garcia', 33.0, ['CLOTHES', 'FOOD', 'BEAUTY'], [499, 189, 63]],\n",
    "    ['33912', 'JOSE MARTINEZ', 22.0, ['SPORT', 'ELECTRONICS', 'HOME'], [259, 549, 109]],\n",
    "    ['34009', 'lisa wilson ', 35.0, ['HOME', 'BOOKS', 'CLOTHES'], [329, 189, 329]],\n",
    "    ['34278', 'James Lee', 28.0, ['BEAUTY', 'CLOTHES', 'ELECTRONICS'], [189, 299, 579]],\n",
    "]\n",
    "\n",
    "users.sort()\n",
    "\n",
    "print(users)"
   ]
  },
  {
   "cell_type": "code",
   "execution_count": 8,
   "metadata": {
    "colab": {
     "base_uri": "https://localhost:8080/"
    },
    "id": "sjNmuLsQJm9X",
    "outputId": "308483d6-8d3c-4763-9014-7e702307424f",
    "trusted": true
   },
   "outputs": [
    {
     "name": "stdout",
     "output_type": "stream",
     "text": [
      "1280\n"
     ]
    }
   ],
   "source": [
    "fav_categories_low = ['electronics', 'sport', 'books']\n",
    "spendings_per_category = [894, 213, 173]\n",
    "\n",
    "total_amount = total_amount = spendings_per_category[0]+spendings_per_category[1]+spendings_per_category[2]\n",
    "\n",
    "print(total_amount)\n"
   ]
  },
  {
   "cell_type": "code",
   "execution_count": 9,
   "metadata": {
    "colab": {
     "base_uri": "https://localhost:8080/"
    },
    "id": "8mlIJr4OJm9Y",
    "outputId": "909d84d1-5723-4676-fb2d-92f8a8c15b7b",
    "trusted": true
   },
   "outputs": [
    {
     "name": "stdout",
     "output_type": "stream",
     "text": [
      "User 32415 is mike, who is 32 years old.\n"
     ]
    }
   ],
   "source": [
    "user_id = '32415'\n",
    "user_name = ['mike', 'reed']\n",
    "user_age = 32\n",
    "\n",
    "user_info =user_info =f'User {user_id} is {user_name[0]}, who is {user_age} years old.'\n",
    "print(user_info)"
   ]
  },
  {
   "cell_type": "code",
   "execution_count": 10,
   "metadata": {
    "colab": {
     "base_uri": "https://localhost:8080/"
    },
    "id": "eGvjS1rkO9mS",
    "outputId": "ce65761f-07d9-463e-e645-4a69c4c9cd9f",
    "trusted": true
   },
   "outputs": [
    {
     "name": "stdout",
     "output_type": "stream",
     "text": [
      "We have registered data on 10 clients.\n"
     ]
    }
   ],
   "source": [
    "users = [\n",
    "    ['32415', ' mike_reed ', 32.0, ['ELECTRONICS', 'SPORT', 'BOOKS'], [894, 213, 173]],\n",
    "    ['31980', 'kate morgan', 24.0, ['CLOTHES', 'BOOKS'], [439, 390]],\n",
    "    ['32156', ' john doe ', 37.0, ['ELECTRONICS', 'HOME', 'FOOD'], [459, 120, 99]],\n",
    "    ['32761', 'SAMANTHA SMITH', 29.0, ['CLOTHES', 'ELECTRONICS', 'BEAUTY'], [299, 679, 85]],\n",
    "    ['32984', 'David White', 41.0, ['BOOKS', 'HOME', 'SPORT'], [234, 329, 243]],\n",
    "    ['33001', 'emily brown', 26.0, ['BEAUTY', 'HOME', 'FOOD'], [213, 659, 79]],\n",
    "    ['33767', ' Maria Garcia', 33.0, ['CLOTHES', 'FOOD', 'BEAUTY'], [499, 189, 63]],\n",
    "    ['33912', 'JOSE MARTINEZ', 22.0, ['SPORT', 'ELECTRONICS', 'HOME'], [259, 549, 109]],\n",
    "    ['34009', 'lisa wilson ', 35.0, ['HOME', 'BOOKS', 'CLOTHES'], [329, 189, 329]],\n",
    "    ['34278', 'James Lee', 28.0, ['BEAUTY', 'CLOTHES', 'ELECTRONICS'], [189, 299, 579]],\n",
    "]\n",
    "\n",
    "\n",
    "user_info = user_info = f'We have registered data on {len(users)} clients.'\n",
    "print(user_info)"
   ]
  },
  {
   "cell_type": "code",
   "execution_count": 11,
   "metadata": {
    "colab": {
     "base_uri": "https://localhost:8080/"
    },
    "id": "9qu_k6XURu7O",
    "outputId": "0bfb6d81-56c3-4c21-fa54-aa09b9752082",
    "trusted": true
   },
   "outputs": [
    {
     "name": "stdout",
     "output_type": "stream",
     "text": [
      "[[['mike', 'reed'], 32], [['kate', 'morgan'], 24], [['john', 'doe'], 37]]\n"
     ]
    }
   ],
   "source": [
    "users = [\n",
    "    ['32415', ' mike_reed ', 32.0, ['ELECTRONICS', 'SPORT', 'BOOKS'], [894, 213, 173]],\n",
    "    ['31980', 'kate morgan', 24.0, ['CLOTHES', 'BOOKS'], [439, 390]],\n",
    "    ['32156', ' john doe ', 37.0, ['ELECTRONICS', 'HOME', 'FOOD'], [459, 120, 99]],\n",
    "]\n",
    "\n",
    "users_clean = []\n",
    "\n",
    "\n",
    "user_name_1 = users[0][1].replace('_',' ').strip().split(' ')\n",
    "user_age_1=int(users[0][2])\n",
    "users_clean.append([user_name_1, user_age_1])\n",
    "\n",
    "\n",
    "# Procesa al segundo usuario\n",
    "user_name_2 =users[1][1].split()\n",
    "user_age_2=int(users[1][2])\n",
    "users_clean.append([user_name_2, user_age_2])\n",
    "\n",
    "# Procesa al tercer usuario\n",
    "user_name_3 =users[2][1].split()\n",
    "user_age_3=int(users[2][2])\n",
    "users_clean.append([user_name_3, user_age_3])\n",
    "\n",
    "\n",
    "print(users_clean)"
   ]
  }
 ],
 "metadata": {
  "ExecuteTimeLog": [
   {
    "duration": 6,
    "start_time": "2024-11-24T01:01:50.243Z"
   },
   {
    "duration": 3,
    "start_time": "2024-11-24T01:03:10.541Z"
   },
   {
    "duration": 3,
    "start_time": "2024-11-24T01:10:43.840Z"
   },
   {
    "duration": 3,
    "start_time": "2024-11-24T01:13:35.094Z"
   },
   {
    "duration": 5,
    "start_time": "2024-11-24T01:15:45.487Z"
   },
   {
    "duration": 4,
    "start_time": "2024-11-24T01:16:58.210Z"
   },
   {
    "duration": 3,
    "start_time": "2024-11-24T01:23:28.667Z"
   },
   {
    "duration": 5,
    "start_time": "2024-11-24T01:25:50.979Z"
   },
   {
    "duration": 6,
    "start_time": "2024-11-24T01:54:17.334Z"
   },
   {
    "duration": 5,
    "start_time": "2024-11-24T01:54:56.823Z"
   },
   {
    "duration": 6,
    "start_time": "2024-11-24T02:13:21.283Z"
   },
   {
    "duration": 155,
    "start_time": "2024-11-24T03:09:32.867Z"
   },
   {
    "duration": 6,
    "start_time": "2024-11-24T03:35:45.964Z"
   },
   {
    "duration": 5,
    "start_time": "2024-11-24T03:49:22.271Z"
   },
   {
    "duration": 5,
    "start_time": "2024-11-24T03:49:42.735Z"
   },
   {
    "duration": 5,
    "start_time": "2024-11-24T03:51:48.978Z"
   },
   {
    "duration": 5,
    "start_time": "2024-11-24T03:52:11.609Z"
   },
   {
    "duration": 6,
    "start_time": "2024-11-24T03:52:30.441Z"
   },
   {
    "duration": 7,
    "start_time": "2024-11-24T03:54:43.127Z"
   },
   {
    "duration": 6,
    "start_time": "2024-11-24T03:54:53.630Z"
   },
   {
    "duration": 17,
    "start_time": "2024-11-24T03:54:58.345Z"
   },
   {
    "duration": 18,
    "start_time": "2024-11-24T03:55:08.009Z"
   },
   {
    "duration": 17,
    "start_time": "2024-11-24T03:55:47.056Z"
   },
   {
    "duration": 5,
    "start_time": "2024-11-24T03:55:58.656Z"
   },
   {
    "duration": 20,
    "start_time": "2024-11-24T03:56:35.579Z"
   },
   {
    "duration": 36,
    "start_time": "2024-11-24T03:56:47.257Z"
   },
   {
    "duration": 5,
    "start_time": "2024-11-24T03:56:54.556Z"
   },
   {
    "duration": 6,
    "start_time": "2024-11-24T04:07:16.585Z"
   },
   {
    "duration": 5,
    "start_time": "2024-11-24T04:07:34.420Z"
   },
   {
    "duration": 6,
    "start_time": "2024-11-24T04:07:40.438Z"
   },
   {
    "duration": 6,
    "start_time": "2024-11-24T04:08:01.108Z"
   },
   {
    "duration": 6,
    "start_time": "2024-11-24T04:09:10.004Z"
   },
   {
    "duration": 6,
    "start_time": "2024-11-24T04:09:29.441Z"
   },
   {
    "duration": 7,
    "start_time": "2024-11-24T04:09:49.094Z"
   },
   {
    "duration": 18,
    "start_time": "2024-11-24T04:10:32.031Z"
   },
   {
    "duration": 19,
    "start_time": "2024-11-24T04:10:51.505Z"
   },
   {
    "duration": 7,
    "start_time": "2024-11-24T04:10:54.564Z"
   },
   {
    "duration": 5,
    "start_time": "2024-11-24T04:11:01.388Z"
   },
   {
    "duration": 5,
    "start_time": "2024-11-24T04:11:12.661Z"
   },
   {
    "duration": 6,
    "start_time": "2024-11-24T04:11:31.621Z"
   },
   {
    "duration": 5,
    "start_time": "2024-11-24T04:11:42.260Z"
   },
   {
    "duration": 18,
    "start_time": "2024-11-24T04:11:56.355Z"
   },
   {
    "duration": 21,
    "start_time": "2024-11-24T04:12:13.999Z"
   },
   {
    "duration": 5,
    "start_time": "2024-11-24T04:12:18.488Z"
   },
   {
    "duration": 6,
    "start_time": "2024-11-24T04:12:34.375Z"
   },
   {
    "duration": 19,
    "start_time": "2024-11-24T04:12:43.314Z"
   },
   {
    "duration": 5,
    "start_time": "2024-11-24T04:12:55.504Z"
   },
   {
    "duration": 6,
    "start_time": "2024-11-24T04:12:58.663Z"
   },
   {
    "duration": 5,
    "start_time": "2024-11-24T04:13:54.560Z"
   },
   {
    "duration": 5,
    "start_time": "2024-11-24T04:14:08.583Z"
   },
   {
    "duration": 5,
    "start_time": "2024-11-24T04:15:36.174Z"
   },
   {
    "duration": 5,
    "start_time": "2024-11-24T04:15:54.028Z"
   },
   {
    "duration": 5,
    "start_time": "2024-11-24T04:16:04.065Z"
   },
   {
    "duration": 4,
    "start_time": "2024-11-24T04:16:21.669Z"
   },
   {
    "duration": 6,
    "start_time": "2024-11-24T04:16:25.901Z"
   },
   {
    "duration": 5,
    "start_time": "2024-11-24T04:16:30.943Z"
   },
   {
    "duration": 5,
    "start_time": "2024-11-24T04:59:18.643Z"
   },
   {
    "duration": 5,
    "start_time": "2024-11-24T05:00:08.933Z"
   },
   {
    "duration": 5,
    "start_time": "2024-11-24T05:03:01.133Z"
   },
   {
    "duration": 5,
    "start_time": "2024-11-24T05:03:57.008Z"
   },
   {
    "duration": 4,
    "start_time": "2024-11-24T05:42:59.153Z"
   },
   {
    "duration": 5,
    "start_time": "2024-11-24T05:44:07.960Z"
   },
   {
    "duration": 5,
    "start_time": "2024-11-24T07:56:15.782Z"
   },
   {
    "duration": 163,
    "start_time": "2024-11-24T07:56:28.042Z"
   },
   {
    "duration": 12,
    "start_time": "2024-11-24T07:56:53.248Z"
   },
   {
    "duration": 12,
    "start_time": "2024-11-24T07:57:41.016Z"
   },
   {
    "duration": 3,
    "start_time": "2024-11-24T07:58:03.547Z"
   },
   {
    "duration": 3,
    "start_time": "2024-11-24T07:58:38.498Z"
   },
   {
    "duration": 12,
    "start_time": "2024-11-24T07:58:55.287Z"
   },
   {
    "duration": 3,
    "start_time": "2024-11-24T07:59:02.192Z"
   },
   {
    "duration": 3,
    "start_time": "2024-11-24T07:59:18.977Z"
   },
   {
    "duration": 3,
    "start_time": "2024-11-24T08:00:18.017Z"
   },
   {
    "duration": 2,
    "start_time": "2024-11-24T08:01:11.793Z"
   }
  ],
  "colab": {
   "provenance": []
  },
  "kernelspec": {
   "display_name": "base",
   "language": "python",
   "name": "python3"
  },
  "language_info": {
   "codemirror_mode": {
    "name": "ipython",
    "version": 3
   },
   "file_extension": ".py",
   "mimetype": "text/x-python",
   "name": "python",
   "nbconvert_exporter": "python",
   "pygments_lexer": "ipython3",
   "version": "3.12.7"
  },
  "toc": {
   "base_numbering": 1,
   "nav_menu": {},
   "number_sections": true,
   "sideBar": true,
   "skip_h1_title": true,
   "title_cell": "Table of Contents",
   "title_sidebar": "Contents",
   "toc_cell": false,
   "toc_position": {},
   "toc_section_display": true,
   "toc_window_display": false
  }
 },
 "nbformat": 4,
 "nbformat_minor": 1
}
